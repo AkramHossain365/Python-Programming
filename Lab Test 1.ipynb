{
 "cells": [
  {
   "cell_type": "code",
   "execution_count": 12,
   "metadata": {},
   "outputs": [
    {
     "name": "stdout",
     "output_type": "stream",
     "text": [
      "{'Bangladesh': 3, 'is': 1, 'Our': 2, 'Motherland': 3, 'and': 1, 'We': 1, 'Love': 2, 'This': 1, 'Country': 2, 'Very': 1, 'Much': 1}\n"
     ]
    }
   ],
   "source": [
    "# Vowels Count from a string.\n",
    "# developed by Md. Akram Hossain, 2204018\n",
    "\n",
    "\n",
    "def vowelCount(w):\n",
    "    vowels='aeiouAEIOU'\n",
    "    return sum(1 for char in w if char in vowels)\n",
    "sentence = input(\"Enter a sentence\")\n",
    "word = sentence.split()\n",
    "vowel_frequency = {w: vowelCount(w) for w in word}\n",
    "print(vowel_frequency)\n"
   ]
  },
  {
   "cell_type": "code",
   "execution_count": null,
   "metadata": {},
   "outputs": [],
   "source": []
  }
 ],
 "metadata": {
  "kernelspec": {
   "display_name": "Python 3",
   "language": "python",
   "name": "python3"
  },
  "language_info": {
   "codemirror_mode": {
    "name": "ipython",
    "version": 3
   },
   "file_extension": ".py",
   "mimetype": "text/x-python",
   "name": "python",
   "nbconvert_exporter": "python",
   "pygments_lexer": "ipython3",
   "version": "3.13.0"
  }
 },
 "nbformat": 4,
 "nbformat_minor": 2
}
